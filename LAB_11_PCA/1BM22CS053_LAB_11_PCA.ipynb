{
  "nbformat": 4,
  "nbformat_minor": 0,
  "metadata": {
    "colab": {
      "provenance": []
    },
    "kernelspec": {
      "name": "python3",
      "display_name": "Python 3"
    },
    "language_info": {
      "name": "python"
    }
  },
  "cells": [
    {
      "cell_type": "code",
      "execution_count": 1,
      "metadata": {
        "id": "TSLZbNQ47b43",
        "colab": {
          "base_uri": "https://localhost:8080/"
        },
        "outputId": "839e582f-5d7c-4118-cf96-28557982e710"
      },
      "outputs": [
        {
          "output_type": "stream",
          "name": "stdout",
          "text": [
            "Explained variance ratio by each component: [0.12038006 0.09733098]\n",
            "PCA + Logistic Regression Accuracy: 51.67%\n"
          ]
        }
      ],
      "source": [
        "# Import necessary libraries\n",
        "from sklearn.datasets import load_digits\n",
        "from sklearn.model_selection import train_test_split\n",
        "from sklearn.preprocessing import StandardScaler\n",
        "from sklearn.decomposition import PCA\n",
        "from sklearn.linear_model import LogisticRegression\n",
        "from sklearn.metrics import accuracy_score\n",
        "\n",
        "# Step 1: Load the digits dataset\n",
        "digits = load_digits()\n",
        "X = digits.data    # Features\n",
        "y = digits.target  # Labels\n",
        "\n",
        "# Step 2: Split the data into training and testing sets (80% training, 20% testing)\n",
        "X_train, X_test, y_train, y_test = train_test_split(\n",
        "    X, y, test_size=0.2, random_state=42\n",
        ")\n",
        "\n",
        "# Step 3: Scale the features (important before PCA)\n",
        "scaler = StandardScaler()\n",
        "X_train_scaled = scaler.fit_transform(X_train)\n",
        "X_test_scaled = scaler.transform(X_test)\n",
        "\n",
        "# Step 4: Apply PCA with 2 components\n",
        "pca = PCA(n_components=2)\n",
        "X_train_pca = pca.fit_transform(X_train_scaled)\n",
        "X_test_pca = pca.transform(X_test_scaled)\n",
        "\n",
        "# Step 5: Train logistic regression on transformed data\n",
        "lr = LogisticRegression(max_iter=1000)\n",
        "lr.fit(X_train_pca, y_train)\n",
        "\n",
        "# Step 6: Predict and evaluate\n",
        "y_pred = lr.predict(X_test_pca)\n",
        "accuracy = accuracy_score(y_test, y_pred)\n",
        "\n",
        "# Print results\n",
        "print(\"Explained variance ratio by each component:\", pca.explained_variance_ratio_)\n",
        "print(\"PCA + Logistic Regression Accuracy: {:.2f}%\".format(accuracy * 100))"
      ]
    },
    {
      "cell_type": "code",
      "source": [
        "import pandas as pd\n",
        "import numpy as np\n",
        "from sklearn.preprocessing import StandardScaler, LabelEncoder\n",
        "from sklearn.model_selection import train_test_split\n",
        "from sklearn.ensemble import RandomForestClassifier\n",
        "from sklearn.linear_model import LogisticRegression\n",
        "from sklearn.svm import SVC\n",
        "from sklearn.metrics import accuracy_score\n",
        "from sklearn.decomposition import PCA\n",
        "from scipy.stats import zscore\n",
        "\n",
        "# Step 1: Load dataset\n",
        "df = pd.read_csv(\"sample_data/heart.csv\")  # Adjust path if needed\n",
        "\n",
        "# Step 2: Remove outliers using Z-score\n",
        "z_scores = np.abs(zscore(df.select_dtypes(include=[np.number])))\n",
        "df = df[(z_scores < 3).all(axis=1)]\n",
        "\n",
        "# Step 3: Convert text columns to numbers\n",
        "df_encoded = df.copy()\n",
        "for col in df_encoded.select_dtypes(include=[\"object\"]).columns:\n",
        "    if df_encoded[col].nunique() <= 2:\n",
        "        le = LabelEncoder()\n",
        "        df_encoded[col] = le.fit_transform(df_encoded[col])\n",
        "    else:\n",
        "        df_encoded = pd.get_dummies(df_encoded, columns=[col], drop_first=True)\n",
        "\n",
        "# Step 4: Apply scaling\n",
        "X = df_encoded.drop(\"target\", axis=1)  # Replace 'target' if it's named differently\n",
        "y = df_encoded[\"target\"]\n",
        "\n",
        "scaler = StandardScaler()\n",
        "X_scaled = scaler.fit_transform(X)\n",
        "\n",
        "# Step 5: Train/test split and model building\n",
        "X_train, X_test, y_train, y_test = train_test_split(X_scaled, y, test_size=0.2, random_state=42)\n",
        "\n",
        "models = {\n",
        "    \"Logistic Regression\": LogisticRegression(max_iter=1000),\n",
        "    \"Random Forest\": RandomForestClassifier(),\n",
        "    \"SVM\": SVC()\n",
        "}\n",
        "\n",
        "print(\"Model Accuracies (without PCA):\")\n",
        "for name, model in models.items():\n",
        "    model.fit(X_train, y_train)\n",
        "    preds = model.predict(X_test)\n",
        "    acc = accuracy_score(y_test, preds)\n",
        "    print(f\"{name}: {acc:.4f}\")\n",
        "\n",
        "# Step 6: Apply PCA and re-evaluate\n",
        "pca = PCA(n_components=0.95)  # Retain 95% variance\n",
        "X_pca = pca.fit_transform(X_scaled)\n",
        "X_train_pca, X_test_pca, _, _ = train_test_split(X_pca, y, test_size=0.2, random_state=42)\n",
        "\n",
        "print(\"\\nModel Accuracies (with PCA):\")\n",
        "for name, model in models.items():\n",
        "    model.fit(X_train_pca, y_train)\n",
        "    preds = model.predict(X_test_pca)\n",
        "    acc = accuracy_score(y_test, preds)\n",
        "    print(f\"{name}: {acc:.4f}\")"
      ],
      "metadata": {
        "colab": {
          "base_uri": "https://localhost:8080/"
        },
        "id": "df7B8JjizRmJ",
        "outputId": "2caea086-5099-4054-8130-25aee6f5fd85"
      },
      "execution_count": 2,
      "outputs": [
        {
          "output_type": "stream",
          "name": "stdout",
          "text": [
            "Model Accuracies (without PCA):\n",
            "Logistic Regression: 0.8103\n",
            "Random Forest: 0.7759\n",
            "SVM: 0.7931\n",
            "\n",
            "Model Accuracies (with PCA):\n",
            "Logistic Regression: 0.8276\n",
            "Random Forest: 0.8276\n",
            "SVM: 0.7586\n"
          ]
        }
      ]
    },
    {
      "cell_type": "code",
      "source": [],
      "metadata": {
        "id": "liLuoP8bz3H1"
      },
      "execution_count": null,
      "outputs": []
    }
  ]
}