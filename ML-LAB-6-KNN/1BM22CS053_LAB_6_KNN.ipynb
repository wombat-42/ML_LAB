{
  "nbformat": 4,
  "nbformat_minor": 0,
  "metadata": {
    "colab": {
      "provenance": []
    },
    "kernelspec": {
      "name": "python3",
      "display_name": "Python 3"
    },
    "language_info": {
      "name": "python"
    }
  },
  "cells": [
    {
      "cell_type": "code",
      "execution_count": 4,
      "metadata": {
        "id": "HKooQ1jkoH1m",
        "outputId": "0d638b3c-79e4-4c8e-bba9-35a804e08469",
        "colab": {
          "base_uri": "https://localhost:8080/",
          "height": 1000
        }
      },
      "outputs": [
        {
          "output_type": "stream",
          "name": "stdout",
          "text": [
            "IRIS Dataset:\n",
            "Accuracy Score: 1.0\n",
            "Confusion Matrix:\n",
            " [[10  0  0]\n",
            " [ 0  9  0]\n",
            " [ 0  0 11]]\n",
            "Classification Report:\n",
            "               precision    recall  f1-score   support\n",
            "\n",
            "      setosa       1.00      1.00      1.00        10\n",
            "  versicolor       1.00      1.00      1.00         9\n",
            "   virginica       1.00      1.00      1.00        11\n",
            "\n",
            "    accuracy                           1.00        30\n",
            "   macro avg       1.00      1.00      1.00        30\n",
            "weighted avg       1.00      1.00      1.00        30\n",
            "\n",
            "\n",
            "Diabetes Dataset:\n",
            "Accuracy Score: 0.6883116883116883\n",
            "Confusion Matrix:\n",
            " [[79 20]\n",
            " [28 27]]\n",
            "\n",
            "Heart Dataset:\n",
            "Best K value: 6\n",
            "Accuracy Score: 0.9344262295081968\n",
            "Confusion Matrix:\n",
            " [[28  1]\n",
            " [ 3 29]]\n",
            "Classification Report:\n",
            "               precision    recall  f1-score   support\n",
            "\n",
            "           0       0.90      0.97      0.93        29\n",
            "           1       0.97      0.91      0.94        32\n",
            "\n",
            "    accuracy                           0.93        61\n",
            "   macro avg       0.93      0.94      0.93        61\n",
            "weighted avg       0.94      0.93      0.93        61\n",
            "\n"
          ]
        },
        {
          "output_type": "display_data",
          "data": {
            "text/plain": [
              "<Figure size 600x500 with 2 Axes>"
            ],
            "image/png": "[encoded data removed]"
          },
          "metadata": {}
        }
      ],
      "source": [
        "import pandas as pd\n",
        "import numpy as np\n",
        "import matplotlib.pyplot as plt\n",
        "import seaborn as sns\n",
        "from sklearn.model_selection import train_test_split\n",
        "from sklearn.neighbors import KNeighborsClassifier\n",
        "from sklearn.preprocessing import StandardScaler, LabelEncoder\n",
        "from sklearn.metrics import accuracy_score, confusion_matrix, classification_report\n",
        "\n",
        "# Load IRIS dataset\n",
        "iris = pd.read_csv('sample_data/iris.csv')\n",
        "X_iris = iris.iloc[:, :-1]\n",
        "y_iris = iris.iloc[:, -1]\n",
        "X_train_iris, X_test_iris, y_train_iris, y_test_iris = train_test_split(X_iris, y_iris, test_size=0.2, random_state=42)\n",
        "\n",
        "# Train KNN Classifier for IRIS\n",
        "knn_iris = KNeighborsClassifier(n_neighbors=5)\n",
        "knn_iris.fit(X_train_iris, y_train_iris)\n",
        "y_pred_iris = knn_iris.predict(X_test_iris)\n",
        "\n",
        "# Display results for IRIS\n",
        "print(\"IRIS Dataset:\")\n",
        "print(\"Accuracy Score:\", accuracy_score(y_test_iris, y_pred_iris))\n",
        "print(\"Confusion Matrix:\\n\", confusion_matrix(y_test_iris, y_pred_iris))\n",
        "print(\"Classification Report:\\n\", classification_report(y_test_iris, y_pred_iris))\n",
        "\n",
        "# Load Diabetes dataset\n",
        "diabetes = pd.read_csv('sample_data/diabetes.csv')\n",
        "X_diabetes = diabetes.iloc[:, :-1]\n",
        "y_diabetes = diabetes.iloc[:, -1]\n",
        "\n",
        "# Feature Scaling\n",
        "scaler = StandardScaler()\n",
        "X_diabetes = scaler.fit_transform(X_diabetes)\n",
        "\n",
        "X_train_diabetes, X_test_diabetes, y_train_diabetes, y_test_diabetes = train_test_split(X_diabetes, y_diabetes, test_size=0.2, random_state=42)\n",
        "\n",
        "# Train KNN Classifier for Diabetes dataset\n",
        "knn_diabetes = KNeighborsClassifier(n_neighbors=5)\n",
        "knn_diabetes.fit(X_train_diabetes, y_train_diabetes)\n",
        "y_pred_diabetes = knn_diabetes.predict(X_test_diabetes)\n",
        "\n",
        "# Display results for Diabetes dataset\n",
        "print(\"\\nDiabetes Dataset:\")\n",
        "print(\"Accuracy Score:\", accuracy_score(y_test_diabetes, y_pred_diabetes))\n",
        "print(\"Confusion Matrix:\\n\", confusion_matrix(y_test_diabetes, y_pred_diabetes))\n",
        "\n",
        "# Load Heart dataset\n",
        "heart = pd.read_csv('sample_data/heart.csv')\n",
        "X_heart = heart.iloc[:, :-1]\n",
        "y_heart = heart.iloc[:, -1]\n",
        "\n",
        "# Feature Scaling\n",
        "X_heart = scaler.fit_transform(X_heart)\n",
        "\n",
        "X_train_heart, X_test_heart, y_train_heart, y_test_heart = train_test_split(X_heart, y_heart, test_size=0.2, random_state=42)\n",
        "\n",
        "# Find best k value\n",
        "best_k = 1\n",
        "best_score = 0\n",
        "for k in range(1, 21):\n",
        "    knn_heart = KNeighborsClassifier(n_neighbors=k)\n",
        "    knn_heart.fit(X_train_heart, y_train_heart)\n",
        "    score = knn_heart.score(X_test_heart, y_test_heart)\n",
        "    if score > best_score:\n",
        "        best_score = score\n",
        "        best_k = k\n",
        "\n",
        "# Train KNN Classifier for Heart dataset with best k\n",
        "knn_heart = KNeighborsClassifier(n_neighbors=best_k)\n",
        "knn_heart.fit(X_train_heart, y_train_heart)\n",
        "y_pred_heart = knn_heart.predict(X_test_heart)\n",
        "\n",
        "# Display results for Heart dataset\n",
        "print(\"\\nHeart Dataset:\")\n",
        "print(\"Best K value:\", best_k)\n",
        "print(\"Accuracy Score:\", accuracy_score(y_test_heart, y_pred_heart))\n",
        "print(\"Confusion Matrix:\\n\", confusion_matrix(y_test_heart, y_pred_heart))\n",
        "print(\"Classification Report:\\n\", classification_report(y_test_heart, y_pred_heart))\n",
        "\n",
        "# Plot confusion matrix\n",
        "plt.figure(figsize=(6,5))\n",
        "sns.heatmap(confusion_matrix(y_test_heart, y_pred_heart), annot=True, fmt='d', cmap='Blues')\n",
        "plt.title(\"Heart Disease Confusion Matrix\")\n",
        "plt.xlabel(\"Predicted\")\n",
        "plt.ylabel(\"Actual\")\n",
        "plt.show()\n"
      ]
    },
    {
      "cell_type": "code",
      "source": [],
      "metadata": {
        "id": "K320pDANpDRP"
      },
      "execution_count": null,
      "outputs": []
    }
  ]
}